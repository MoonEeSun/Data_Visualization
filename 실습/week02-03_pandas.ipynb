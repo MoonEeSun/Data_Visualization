{
 "cells": [
  {
   "cell_type": "markdown",
   "metadata": {},
   "source": [
    "## series\n",
    "\n",
    "- series 사용 형식\n",
    "    - Series(data = None, index = None, dtype = None, name = None, copy = False, fastpath = False)\n",
    "- 1차원 배열 형식"
   ]
  },
  {
   "cell_type": "code",
   "execution_count": 3,
   "metadata": {},
   "outputs": [
    {
     "name": "stdout",
     "output_type": "stream",
     "text": [
      "나는index\n",
      "서울    2000.0\n",
      "부산    3000.0\n",
      "울산    4000.0\n",
      "광주       NaN\n",
      "Name: 나는series, dtype: float64\n"
     ]
    }
   ],
   "source": [
    "import numpy as np\n",
    "import pandas as pd\n",
    "\n",
    "\n",
    "sdata = [2000.0, 3000.0, 4000.0, np.nan] # series 내의 데이터 생성\n",
    "city = ['서울', '부산', '울산', '광주'] # series 내의 데이터 생성\n",
    "\n",
    "myseries = pd.Series(sdata, city) # series 생성\n",
    "# myseries = pd.Series(data=sdata, index=city)\n",
    "\n",
    "\n",
    "myseries.name = '나는series' # series 객체 자체의 이름\n",
    "myseries.index.name = '나는index' # series 내의 index 이름\n",
    "\n",
    "\n",
    "print(myseries)"
   ]
  },
  {
   "cell_type": "code",
   "execution_count": 9,
   "metadata": {},
   "outputs": [
    {
     "name": "stdout",
     "output_type": "stream",
     "text": [
      "0    0\n",
      "1    1\n",
      "2    2\n",
      "3    3\n",
      "dtype: int64\n",
      "0    4\n",
      "1    5\n",
      "2    6\n",
      "dtype: int64\n",
      "a    4\n",
      "b    5\n",
      "c    6\n",
      "dtype: int64\n",
      "seoul    3000\n",
      "busan    2000\n",
      "dtype: int64\n"
     ]
    }
   ],
   "source": [
    "# series 생성 방법\n",
    "\n",
    "series1 = pd.Series(range(0,4))\n",
    "print(series1)\n",
    "\n",
    "series2 = pd.Series([4, 5, 6])\n",
    "print(series2)\n",
    "\n",
    "series3 = pd.Series([4, 5, 6], index = ['a', 'b', 'c'])\n",
    "print(series3)\n",
    "\n",
    "data4 = {'seoul' : 3000, 'busan' : 2000}\n",
    "series4 = pd.Series(data4)\n",
    "print(series4)"
   ]
  },
  {
   "cell_type": "code",
   "execution_count": 13,
   "metadata": {},
   "outputs": [
    {
     "name": "stdout",
     "output_type": "stream",
     "text": [
      "seoul      50\n",
      "busan      60\n",
      "gwangju    70\n",
      "daegu      30\n",
      "ulsan      40\n",
      "mokpo      10\n",
      "yoesoo     20\n",
      "dtype: int64\n",
      "gwangju    70\n",
      "dtype: int64\n",
      "50\n",
      "busan      60\n",
      "gwangju    70\n",
      "daegu      30\n",
      "ulsan      40\n",
      "mokpo      10\n",
      "dtype: int64\n",
      "seoul      50\n",
      "gwangju    70\n",
      "dtype: int64\n",
      "ulsan    40\n",
      "dtype: int64\n",
      "40\n",
      "seoul      50\n",
      "gwangju    70\n",
      "ulsan      40\n",
      "dtype: int64\n",
      "busan    60\n",
      "daegu    30\n",
      "mokpo    10\n",
      "dtype: int64\n",
      "daegu    30\n",
      "ulsan    40\n",
      "mokpo    10\n",
      "dtype: int64\n"
     ]
    }
   ],
   "source": [
    "myindex = ['seoul', 'busan', 'gwangju', 'daegu', 'ulsan', 'mokpo', 'yoesoo']\n",
    "mylist = [50, 60, 70, 30, 40, 10, 20]\n",
    "series = pd.Series(data = mylist, index = myindex)\n",
    "print(series)\n",
    "\n",
    "print(series[['gwangju']]) # 해당하는 index랑 data 둘 다 출력\n",
    "\n",
    "print(series['seoul']) # 해당하는 index의 data만 출력\n",
    "\n",
    "print(series['busan':'mokpo']) # 문자형 Index - busan부터 mokpo까지\n",
    "\n",
    "print(series[['seoul', 'gwangju']]) # 개별적으로 data 접근\n",
    "\n",
    "print(series[[4]]) # 숫자를 통해서도 접근 가능\n",
    "\n",
    "print(series[4]) # 데이터만 출력\n",
    "\n",
    "print(series[0:6:2]) # 숫자형 Index - 0, 2, 4번째 읽기 ( 마지막은 포함 X :: <= && < )\n",
    "\n",
    "print(series[[1, 3, 5]]) # 1, 3, 5번째 읽기\n",
    "\n",
    "print(series[3:6]) # 숫자형 Index - from <= 결과 <"
   ]
  },
  {
   "cell_type": "code",
   "execution_count": 15,
   "metadata": {},
   "outputs": [
    {
     "name": "stdout",
     "output_type": "stream",
     "text": [
      "seoul      50\n",
      "busan      60\n",
      "gwangju    70\n",
      "daegu      30\n",
      "ulsan      40\n",
      "mokpo      10\n",
      "yoesoo     20\n",
      "dtype: int64\n",
      "seoul      50\n",
      "busan      60\n",
      "gwangju    22\n",
      "daegu      30\n",
      "ulsan      40\n",
      "mokpo      10\n",
      "yoesoo     20\n",
      "dtype: int64\n",
      "seoul      50\n",
      "busan      60\n",
      "gwangju    22\n",
      "daegu      33\n",
      "ulsan      33\n",
      "mokpo      33\n",
      "yoesoo     20\n",
      "dtype: int64\n",
      "seoul      44\n",
      "busan      44\n",
      "gwangju    22\n",
      "daegu      33\n",
      "ulsan      33\n",
      "mokpo      33\n",
      "yoesoo     20\n",
      "dtype: int64\n",
      "seoul      77\n",
      "busan      44\n",
      "gwangju    77\n",
      "daegu      33\n",
      "ulsan      77\n",
      "mokpo      33\n",
      "yoesoo     77\n",
      "dtype: int64\n"
     ]
    }
   ],
   "source": [
    "# series 내의 값 변경\n",
    "\n",
    "print(series)\n",
    "\n",
    "series[2] = 22\n",
    "print(series)\n",
    "\n",
    "series[3:6] = 33 # 3~5번째 변경\n",
    "print(series)\n",
    "\n",
    "series[['seoul', 'busan']] = 44\n",
    "print(series)\n",
    "\n",
    "series[0::2] = 77 # 짝수 행만 변경\n",
    "print(series)"
   ]
  },
  {
   "cell_type": "markdown",
   "metadata": {},
   "source": [
    "## DataFrame\n",
    "- 2차원 배열 형식\n",
    "- 열 1개가 하나의 Series형태\n",
    "- 형식\n",
    "    - DataFrame(data=None, index=None, columns=None, dtype=None, copy=False)"
   ]
  },
  {
   "cell_type": "code",
   "execution_count": 17,
   "metadata": {},
   "outputs": [
    {
     "name": "stdout",
     "output_type": "stream",
     "text": [
      "    city  year  pop\n",
      "0  seoul  2000  1.5\n",
      "1  seoul  2001  2.7\n",
      "2  seoul  2002  3.6\n",
      "3  busan  2001  2.3\n",
      "4  busan  2002  2.9\n",
      "        city  year  pop\n",
      "one    seoul  2000  1.5\n",
      "two    seoul  2001  2.7\n",
      "three  seoul  2002  3.6\n",
      "four   busan  2001  2.3\n",
      "five   busan  2002  2.9\n"
     ]
    }
   ],
   "source": [
    "df_data = {'city': ['seoul', 'seoul', 'seoul', 'busan', 'busan'],\n",
    "          'year' : [2000, 2001, 2002, 2001, 2002],\n",
    "          'pop' : [1.5, 2.7, 3.6, 2.3, 2.9]}\n",
    "\n",
    "df_column = ['city', 'year', 'pop'] # column\n",
    "df_index = ['one', 'two', 'three', 'four', 'five'] # row(=Index)\n",
    "\n",
    "df_frame1 = pd.DataFrame(df_data)\n",
    "df_frame2 = pd.DataFrame(data = df_data, columns = df_column, index = df_index)\n",
    "\n",
    "\n",
    "print(df_frame1)\n",
    "print(df_frame2)"
   ]
  },
  {
   "cell_type": "code",
   "execution_count": 5,
   "metadata": {},
   "outputs": [
    {
     "name": "stdout",
     "output_type": "stream",
     "text": [
      "[10, 20, 30, 40, 50, 60, 70, 80, 90, 100, 110, 120, 130, 140, 150, 160, 170, 180, 190, 200, 210, 220, 230, 240, 250]\n",
      "     seoul  busan  gwangju  mokpo  ulsan\n",
      "이순신     10     20       30     40     50\n",
      "김유신     60     70       80     90    100\n",
      "강감찬    110    120      130    140    150\n",
      "광해군    160    170      180    190    200\n",
      "연산군    210    220      230    240    250\n"
     ]
    }
   ],
   "source": [
    "df_index = ['이순신', '김유신', '강감찬', '광해군', '연산군']\n",
    "df_columns = ['seoul', 'busan', 'gwangju', 'mokpo', 'ulsan']\n",
    "df_list = list(10 * data for data in range(1, 26))\n",
    "print(df_list)\n",
    "\n",
    "df_frame = pd.DataFrame(data = np.reshape(df_list, (5, 5)), index = df_index, columns = df_columns)\n",
    "print(df_frame)"
   ]
  },
  {
   "cell_type": "markdown",
   "metadata": {},
   "source": [
    "### 행 추출 - iloc, loc\n",
    "\n",
    "- iloc : 행 인덱스로 행 추출\n",
    "    - iloc[1] : 1행 추출\n",
    "    - iloc[1, 3] : 1행 3열 추출\n",
    "        - [행, 열]\n",
    "    - iloc[[1, 3]] : 1행, 3행 추출\n",
    "    - iloc[0::2] : 짝수행 추출\n",
    "    - iloc[0:5] : 0행부터 4행까지 추출\n",
    "- loc : 라벨을 통해 행 추출\n",
    "    - 대괄호 하나 : Series\n",
    "    - 대괄호 두개 : DataFrame\n",
    "    - [[행목록], [열목록]]\n",
    "\n",
    "- slicing을 쓸 때는 대괄호([]) 안에 안 써도 됨"
   ]
  },
  {
   "cell_type": "code",
   "execution_count": 6,
   "metadata": {
    "scrolled": true
   },
   "outputs": [
    {
     "name": "stdout",
     "output_type": "stream",
     "text": [
      "seoul       60\n",
      "busan       70\n",
      "gwangju     80\n",
      "mokpo       90\n",
      "ulsan      100\n",
      "Name: 김유신, dtype: int64\n",
      "     seoul  busan  gwangju  mokpo  ulsan\n",
      "김유신     60     70       80     90    100\n",
      "광해군    160    170      180    190    200\n",
      "90\n",
      "     seoul  busan  gwangju  mokpo  ulsan\n",
      "이순신     10     20       30     40     50\n",
      "강감찬    110    120      130    140    150\n",
      "연산군    210    220      230    240    250\n",
      "     seoul  busan  gwangju  mokpo  ulsan\n",
      "김유신     60     70       80     90    100\n",
      "강감찬    110    120      130    140    150\n",
      "광해군    160    170      180    190    200\n"
     ]
    }
   ],
   "source": [
    "# iloc\n",
    "\n",
    "result1 = df_frame.iloc[1] # 1행 추출 / iloc : 행 인덱스로 행 추출\n",
    "print(result1)\n",
    "\n",
    "result2 = df_frame.iloc[[1, 3]] # .iloc[[1, 3]] - 1행, 3행 추출\n",
    "print(result2)\n",
    "\n",
    "result2_2 = df_frame.iloc[1, 3] # .iloc[1, 3] - 1행 3열 값 가져오기\n",
    "print(result2_2)\n",
    "\n",
    "result3 = df_frame.iloc[0::2] # .iloc[0 : : 2] - 짝수행만 가져오기\n",
    "print(result3)\n",
    "\n",
    "result4 = df_frame.iloc[1:4] # .iloc[1 : 4] - 1행부터 3행까지 가져오기\n",
    "print(result4)"
   ]
  },
  {
   "cell_type": "code",
   "execution_count": 8,
   "metadata": {},
   "outputs": [
    {
     "name": "stdout",
     "output_type": "stream",
     "text": [
      "seoul      10\n",
      "busan      20\n",
      "gwangju    30\n",
      "mokpo      40\n",
      "ulsan      50\n",
      "Name: 이순신, dtype: int64\n",
      "     seoul  busan  gwangju  mokpo  ulsan\n",
      "김유신     60     70       80     90    100\n",
      "광해군    160    170      180    190    200\n",
      "     seoul  busan  gwangju  mokpo  ulsan\n",
      "이순신     10     20       30     40     50\n",
      "광해군    160    170      180    190    200\n"
     ]
    }
   ],
   "source": [
    "# loc\n",
    "\n",
    "result1 = df_frame.loc['이순신'] # 대괄호가 하나기 때문에 Series 반환\n",
    "print(result1)\n",
    "\n",
    "reuslt2 = df_frame.loc[['이순신']] # 대괄호가 2개기 때문에 dataframe 반환\n",
    "print(result2)\n",
    "\n",
    "result3 = df_frame.loc[['이순신', '광해군']]\n",
    "print(result3)"
   ]
  },
  {
   "cell_type": "code",
   "execution_count": 27,
   "metadata": {},
   "outputs": [
    {
     "name": "stdout",
     "output_type": "stream",
     "text": [
      "     gwangju\n",
      "강감찬      130\n",
      "     seoul  ulsan\n",
      "연산군    210    250\n",
      "강감찬    110    150\n",
      "     gwangju  mokpo  ulsan\n",
      "김유신       80     90    100\n",
      "강감찬      130    140    150\n",
      "광해군      180    190    200\n",
      "     busan\n",
      "김유신     70\n",
      "강감찬    120\n",
      "광해군    170\n"
     ]
    }
   ],
   "source": [
    "result1 = df_frame.loc[['강감찬'], ['gwangju']] # dataframe - 강감찬의 광주\n",
    "print(result1)\n",
    "\n",
    "result2 = df_frame.loc[['연산군', '강감찬'], ['seoul', 'ulsan']]\n",
    "print(result2)\n",
    "\n",
    "result3 = df_frame.loc['김유신':'광해군', 'gwangju':'ulsan'] # 숫자일때 (ex. 1:5면 1-4까지), 문자일때 (ex. gwangju:ulsan면 다 포함)\n",
    "print(result3) \n",
    "\n",
    "result4 = df_frame.loc['김유신':'광해군', ['busan']]\n",
    "print(result4)"
   ]
  },
  {
   "cell_type": "markdown",
   "metadata": {},
   "source": [
    "### 행 추출 - index 이용\n",
    "\n",
    "- .index : 인덱스만 추출\n",
    "- np.random.choice(list , 3) : 무작위로 list에서 3개 추출"
   ]
  },
  {
   "cell_type": "code",
   "execution_count": 10,
   "metadata": {},
   "outputs": [
    {
     "name": "stdout",
     "output_type": "stream",
     "text": [
      "Index(['이순신', '김유신', '강감찬', '광해군', '연산군'], dtype='object')\n",
      "['김유신' '광해군' '광해군']\n",
      "     seoul  busan  gwangju  mokpo  ulsan\n",
      "김유신     60     70       80     90    100\n",
      "광해군    160    170      180    190    200\n",
      "광해군    160    170      180    190    200\n"
     ]
    }
   ],
   "source": [
    "print(df_frame.index)\n",
    "\n",
    "\n",
    "df_target = np.random.choice(df_frame.index , 3)\n",
    "print(df_target)\n",
    "\n",
    "result = df_frame.loc[df_target]\n",
    "print(result)\n"
   ]
  },
  {
   "cell_type": "markdown",
   "metadata": {},
   "source": [
    "### 조건으로 dataframe 추출\n",
    "- boolean : True인 행만 출력\n",
    "- 조건 : 같다, 크다, 작다"
   ]
  },
  {
   "cell_type": "code",
   "execution_count": 31,
   "metadata": {},
   "outputs": [
    {
     "name": "stdout",
     "output_type": "stream",
     "text": [
      "     seoul  busan  gwangju  mokpo  ulsan\n",
      "이순신     10     20       30     40     50\n",
      "김유신     60     70       80     90    100\n",
      "강감찬    110    120      130    140    150\n",
      "광해군    160    170      180    190    200\n",
      "연산군    210    220      230    240    250\n",
      "     seoul  busan  gwangju  mokpo  ulsan\n",
      "김유신     60     70       80     90    100\n",
      "강감찬    110    120      130    140    150\n",
      "연산군    210    220      230    240    250\n",
      "     seoul  busan  gwangju  mokpo  ulsan\n",
      "이순신     10     20       30     40     50\n",
      "김유신     60     70       80     90    100\n",
      "     seoul  busan  gwangju  mokpo  ulsan\n",
      "강감찬    110    120      130    140    150\n"
     ]
    }
   ],
   "source": [
    "print(df_frame)\n",
    "\n",
    "result1 = df_frame.loc[[False, True, True, False, True]] # True인 행만 출력됨\n",
    "print(result1)\n",
    "\n",
    "result2 = df_frame.loc[df_frame['busan'] <= 100]\n",
    "print(result2)\n",
    "\n",
    "result3 = df_frame.loc[df_frame['mokpo'] == 140] # mokpo의 데이터가 140인 행만 출력\n",
    "print(result3)"
   ]
  },
  {
   "cell_type": "markdown",
   "metadata": {},
   "source": [
    "- .all() :: 논리연산의 and와 동일\n",
    "    - True && True => True\n",
    "    - True && False => False\n",
    "    - False && False => False\n",
    "- .any() :: 논리연산의 or과 동일\n",
    "    - True & True => True\n",
    "    - True & False => True\n",
    "    - False & False => False"
   ]
  },
  {
   "cell_type": "code",
   "execution_count": 12,
   "metadata": {},
   "outputs": [
    {
     "name": "stdout",
     "output_type": "stream",
     "text": [
      "이순신    False\n",
      "김유신     True\n",
      "강감찬     True\n",
      "광해군     True\n",
      "연산군     True\n",
      "Name: busan, dtype: bool\n",
      "이순신    False\n",
      "김유신    False\n",
      "강감찬     True\n",
      "광해군     True\n",
      "연산군     True\n",
      "Name: mokpo, dtype: bool\n"
     ]
    }
   ],
   "source": [
    "cond1 = df_frame['busan'] >=70\n",
    "cond2 = df_frame['mokpo'] >= 140\n",
    "\n",
    "print(cond1)\n",
    "print(cond2)"
   ]
  },
  {
   "cell_type": "code",
   "execution_count": 13,
   "metadata": {},
   "outputs": [
    {
     "name": "stdout",
     "output_type": "stream",
     "text": [
      "         이순신    김유신   강감찬   광해군   연산군\n",
      "busan  False   True  True  True  True\n",
      "mokpo  False  False  True  True  True\n",
      "이순신    False\n",
      "김유신    False\n",
      "강감찬     True\n",
      "광해군     True\n",
      "연산군     True\n",
      "dtype: bool\n",
      "이순신    False\n",
      "김유신     True\n",
      "강감찬     True\n",
      "광해군     True\n",
      "연산군     True\n",
      "dtype: bool\n"
     ]
    }
   ],
   "source": [
    "df = pd.DataFrame([cond1, cond2])\n",
    "print(df)\n",
    "\n",
    "print(df.all()) # all() :: 논리연산의 and와 동일\n",
    "print(df.any()) # any() :: 논리연산의 or과 동일"
   ]
  },
  {
   "cell_type": "code",
   "execution_count": 14,
   "metadata": {},
   "outputs": [
    {
     "name": "stdout",
     "output_type": "stream",
     "text": [
      "     seoul  busan  gwangju  mokpo  ulsan\n",
      "강감찬    110    120      130    140    150\n",
      "광해군    160    170      180    190    200\n",
      "연산군    210    220      230    240    250\n",
      "     seoul  busan  gwangju  mokpo  ulsan\n",
      "김유신     60     70       80     90    100\n",
      "강감찬    110    120      130    140    150\n",
      "광해군    160    170      180    190    200\n",
      "연산군    210    220      230    240    250\n"
     ]
    }
   ],
   "source": [
    "print(df_frame.loc[df.all()])\n",
    "\n",
    "print(df_frame.loc[df.any()])"
   ]
  },
  {
   "cell_type": "markdown",
   "metadata": {},
   "source": [
    "### 조건으로 행 추출 :: lambda 함수 & slicing 활용"
   ]
  },
  {
   "cell_type": "code",
   "execution_count": 16,
   "metadata": {},
   "outputs": [
    {
     "name": "stdout",
     "output_type": "stream",
     "text": [
      "     seoul  busan  gwangju  mokpo  ulsan\n",
      "이순신     10     20       30     40     50\n",
      "김유신     60     70       80     90    100\n",
      "강감찬    110    120      130    140    150\n",
      "광해군    160    170      180    190    200\n",
      "연산군    210    220      230    240    250\n"
     ]
    }
   ],
   "source": [
    "print(df_frame)"
   ]
  },
  {
   "cell_type": "code",
   "execution_count": 18,
   "metadata": {},
   "outputs": [
    {
     "name": "stdout",
     "output_type": "stream",
     "text": [
      "     seoul  busan  gwangju  mokpo  ulsan\n",
      "강감찬    110    120      130    140    150\n",
      "광해군    160    170      180    190    200\n",
      "연산군    210    220      230    240    250\n"
     ]
    }
   ],
   "source": [
    "result = df_frame.loc[lambda df : df['gwangju'] >= 130]\n",
    "print(result)"
   ]
  },
  {
   "cell_type": "code",
   "execution_count": 20,
   "metadata": {},
   "outputs": [
    {
     "name": "stdout",
     "output_type": "stream",
     "text": [
      "     seoul  busan  gwangju  mokpo  ulsan\n",
      "연산군    210    220      230    240    250\n",
      "     seoul  busan  gwangju  mokpo  ulsan\n",
      "연산군    210    220      230    240    250\n"
     ]
    }
   ],
   "source": [
    "result2 = df_frame.loc[['연산군']]\n",
    "print(result2)\n",
    "\n",
    "result3 = df_frame.loc[['연산군'], :]\n",
    "print(result3)"
   ]
  },
  {
   "cell_type": "code",
   "execution_count": 24,
   "metadata": {},
   "outputs": [
    {
     "name": "stdout",
     "output_type": "stream",
     "text": [
      "     gwangju\n",
      "이순신       30\n",
      "김유신       80\n",
      "강감찬      130\n",
      "광해군      180\n",
      "연산군      230\n"
     ]
    }
   ],
   "source": [
    "# loc은 인덱스값으로 접근하는 것이므로 column으로 접근 불가\n",
    "# result2 = df_frame.loc[['gwangju']] => XXXXX\n",
    "\n",
    "\n",
    "result3 = df_frame.loc[:, ['gwangju']]\n",
    "print(result3)"
   ]
  },
  {
   "cell_type": "code",
   "execution_count": 27,
   "metadata": {},
   "outputs": [
    {
     "name": "stdout",
     "output_type": "stream",
     "text": [
      "     seoul  busan  gwangju  mokpo  ulsan\n",
      "이순신     10     20       30     40     50\n",
      "김유신     60     70       80     90    100\n",
      "강감찬    110    120      130    140    150\n",
      "광해군    160    170      180    190    200\n",
      "연산군    210    220      230    240    250\n",
      "     seoul  busan  gwangju  mokpo  ulsan\n",
      "이순신     80     20       30     40     50\n",
      "김유신     80     70       80     90    100\n",
      "강감찬     80    120      130    140    150\n",
      "광해군    160    170      180    190    200\n",
      "연산군    210    220      230    240    250\n"
     ]
    }
   ],
   "source": [
    "# 서울 실적이 150 이하인 데이터를 모두 80으로 지정하기\n",
    "print(df_frame)\n",
    "\n",
    "df_frame.loc[df_frame['seoul']<=150, ['seoul']] = 80\n",
    "print(df_frame)"
   ]
  },
  {
   "cell_type": "markdown",
   "metadata": {},
   "source": [
    "## apply 함수\n",
    "- 사용자가 직접 작성한 함수를 한번에 데이터 프레임의 각 행과 열에 적용하여 실행할 수 있게 해주는 메소드\n",
    "- 브로드 캐스팅할 수 있게 해줌\n",
    "- frame.apply(f)"
   ]
  },
  {
   "cell_type": "code",
   "execution_count": 5,
   "metadata": {},
   "outputs": [
    {
     "name": "stdout",
     "output_type": "stream",
     "text": [
      "     kor  eng\n",
      "id           \n",
      "김철수   60   70\n",
      "홍길동   70   75\n",
      "박영희   80   80\n"
     ]
    }
   ],
   "source": [
    "import pandas as pd \n",
    "\n",
    "data_memberinfo = pd.read_csv('../data/memberinfo.csv', index_col = 'id')\n",
    "print(data_memberinfo)"
   ]
  },
  {
   "cell_type": "markdown",
   "metadata": {},
   "source": [
    "### * (행, 열) == (index(행, Row, axis = 0)수, 열(column, axis = 1)수)\n",
    "- drop\n",
    "    - axis = 0 : 행(index)없앰\n",
    "    - axis = 1 : 열(column) 없앰\n",
    "- mean\n",
    "    - axis = 0 : 행 각각의 평균 (=> 하나하나의 열 평균) ex) kor, eng 각각의 평균\n",
    "    - aixs = 1 : 열 각각의 평균 (=> 하나하나의 행 평균) ex) 김철수, 홍길동, 박영희 평균"
   ]
  },
  {
   "cell_type": "code",
   "execution_count": 6,
   "metadata": {},
   "outputs": [
    {
     "name": "stdout",
     "output_type": "stream",
     "text": [
      "(3, 2)\n"
     ]
    }
   ],
   "source": [
    "print(data_memberinfo.shape) "
   ]
  },
  {
   "cell_type": "code",
   "execution_count": 10,
   "metadata": {},
   "outputs": [
    {
     "name": "stdout",
     "output_type": "stream",
     "text": [
      "일반적인 산술 연산\n"
     ]
    },
    {
     "data": {
      "text/plain": [
       "id\n",
       "김철수    65\n",
       "홍길동    75\n",
       "박영희    85\n",
       "Name: kor, dtype: int64"
      ]
     },
     "execution_count": 10,
     "metadata": {},
     "output_type": "execute_result"
    }
   ],
   "source": [
    "print('일반적인 산술 연산')\n",
    "data_memberinfo['kor'] + 5 # series 형태"
   ]
  },
  {
   "cell_type": "code",
   "execution_count": 13,
   "metadata": {},
   "outputs": [
    {
     "name": "stdout",
     "output_type": "stream",
     "text": [
      "apply 함수 적용 1\n",
      "id\n",
      "김철수    65\n",
      "홍길동    75\n",
      "박영희    85\n",
      "Name: kor, dtype: int64\n"
     ]
    }
   ],
   "source": [
    "print('apply 함수 적용 1 - 더하기')\n",
    "\n",
    "def plus_5(x):\n",
    "    return x+5\n",
    "\n",
    "plus_frame = data_memberinfo['kor'].apply(plus_5)\n",
    "print(plus_frame)"
   ]
  },
  {
   "cell_type": "code",
   "execution_count": 15,
   "metadata": {},
   "outputs": [
    {
     "name": "stdout",
     "output_type": "stream",
     "text": [
      "apply 함수 적용 2\n",
      "id\n",
      "김철수    600\n",
      "홍길동    700\n",
      "박영희    800\n",
      "Name: kor, dtype: int64\n"
     ]
    }
   ],
   "source": [
    "print('apply 함수 적용 2 - 곱하기')\n",
    "\n",
    "def multiple_n(x, n):\n",
    "    return x*n\n",
    "\n",
    "multiple_frame = data_memberinfo['kor'].apply(multiple_n, n = 10)\n",
    "print(multiple_frame)"
   ]
  },
  {
   "cell_type": "code",
   "execution_count": 17,
   "metadata": {},
   "outputs": [
    {
     "name": "stdout",
     "output_type": "stream",
     "text": [
      "apply 함수 적용 3 - column 방향으로 평균 구하기\n",
      "kor    70.0\n",
      "eng    75.0\n",
      "dtype: float64\n"
     ]
    }
   ],
   "source": [
    "print('apply 함수 적용 3 - column 방향으로 평균 구하기')\n",
    "\n",
    "def mean_column(col):\n",
    "    column_sum = 0\n",
    "    for item in col:\n",
    "        column_sum += item\n",
    "    return column_sum/data_memberinfo.shape[0]\n",
    "\n",
    "mean_column_df = data_memberinfo.apply(mean_column)\n",
    "print(mean_column_df)"
   ]
  },
  {
   "cell_type": "code",
   "execution_count": 19,
   "metadata": {},
   "outputs": [
    {
     "name": "stdout",
     "output_type": "stream",
     "text": [
      "apply 함수 적용 4 - row 방향으로 평균구하기\n",
      "       kor    eng\n",
      "id               \n",
      "김철수   90.0  105.0\n",
      "홍길동  105.0  112.5\n",
      "박영희  120.0  120.0\n"
     ]
    }
   ],
   "source": [
    "print('apply 함수 적용 4 - row 방향으로 평균구하기')\n",
    "\n",
    "def mean_row(row):\n",
    "    row_sum = 0\n",
    "    for item in row:\n",
    "        row_sum += row\n",
    "    return row_sum/data_memberinfo.shape[1]\n",
    "\n",
    "mean_row_df = data_memberinfo.apply(mean_row)\n",
    "print(mean_row_df)"
   ]
  },
  {
   "cell_type": "markdown",
   "metadata": {},
   "source": [
    "## 데이터 병합\n",
    "- merge() 함수 : 하나 이상의 키를 기준으로 DataFrame의 *column(열)*을 합치는 기능\n",
    "    - 함수 인자\n",
    "        - left : 왼쪽 df를 기준으로\n",
    "        - right : 오른쪽 df를 기준으로\n",
    "        - how : 합병의 방법\n",
    "            - inner : 공통된 행만 병합\n",
    "            - outer : 전체 병합\n",
    "            - left / right : 기준을 두는 df\n",
    "        - on : 컬럼 이름을 의미\n",
    "        - 동일 이름의 컬럼이 존재하지 않는 경우\n",
    "            - on 매개변수 사용 X\n",
    "            - right_on / left_on 사용 O"
   ]
  },
  {
   "cell_type": "code",
   "execution_count": 4,
   "metadata": {},
   "outputs": [
    {
     "name": "stdout",
     "output_type": "stream",
     "text": [
      "dataframe1\n",
      "   name  korean\n",
      "0  홍길동       0\n",
      "1  홍길동       1\n",
      "2  김철수       2\n",
      "3  박영희       3\n",
      "4  김철수       4\n",
      "5  김철수       5\n",
      "6  홍길동       6\n",
      "dataframe2\n",
      "   name  english\n",
      "0  김철수        0\n",
      "1  홍길동        1\n",
      "2  심수봉        2\n",
      "  name  korean  english\n",
      "0  홍길동       0        1\n",
      "1  홍길동       1        1\n",
      "2  홍길동       6        1\n",
      "3  김철수       2        0\n",
      "4  김철수       4        0\n",
      "5  김철수       5        0\n",
      "  name  korean  english\n",
      "0  홍길동     0.0      1.0\n",
      "1  홍길동     1.0      1.0\n",
      "2  홍길동     6.0      1.0\n",
      "3  김철수     2.0      0.0\n",
      "4  김철수     4.0      0.0\n",
      "5  김철수     5.0      0.0\n",
      "6  박영희     3.0      NaN\n",
      "7  심수봉     NaN      2.0\n"
     ]
    }
   ],
   "source": [
    "import pandas as pd\n",
    "\n",
    "\n",
    "dict1 = {'name':['홍길동', '홍길동', '김철수', '박영희', '김철수', '김철수', '홍길동',],\n",
    "        'korean' : range(7)}\n",
    "df1 = pd.DataFrame(dict1)\n",
    "\n",
    "dict2 = {'name':['김철수', '홍길동', '심수봉'],\n",
    "        'english':range(3)}\n",
    "df2 = pd.DataFrame(dict2)\n",
    "\n",
    "print('dataframe1\\n', df1)\n",
    "print('dataframe2\\n', df2)\n",
    "\n",
    "# 양쪽에 모두 존재하는 동일 이름만 병합됨\n",
    "merge1 = pd.merge(df1, df2, on='name') # default :: how = 'inner'\n",
    "print(merge1)\n",
    "\n",
    "# 모두 다 병합\n",
    "merge2 = pd.merge(df1, df2, how='outer')\n",
    "print(merge2)"
   ]
  },
  {
   "cell_type": "code",
   "execution_count": 5,
   "metadata": {},
   "outputs": [
    {
     "name": "stdout",
     "output_type": "stream",
     "text": [
      "dataframe3\n",
      "   leftkey  korean\n",
      "0     홍길동       0\n",
      "1     홍길동       1\n",
      "2     김철수       2\n",
      "3     박영희       3\n",
      "4     김철수       4\n",
      "5     김철수       5\n",
      "6     홍길동       6\n",
      "dataframe4\n",
      "   rightkey  english\n",
      "0      김철수        0\n",
      "1      홍길동        1\n",
      "2      심수봉        2\n",
      "  leftkey  korean rightkey  english\n",
      "0     홍길동       0      홍길동        1\n",
      "1     홍길동       1      홍길동        1\n",
      "2     홍길동       6      홍길동        1\n",
      "3     김철수       2      김철수        0\n",
      "4     김철수       4      김철수        0\n",
      "5     김철수       5      김철수        0\n"
     ]
    }
   ],
   "source": [
    "# 공통되는 이름의 컬럼이 하나도 없을 때\n",
    "\n",
    "dict3 = {'leftkey':['홍길동', '홍길동', '김철수', '박영희', '김철수', '김철수', '홍길동'],\n",
    "        'korean':range(7)}\n",
    "df3 = pd.DataFrame(dict3)\n",
    "\n",
    "dict4 = {'rightkey':['김철수', '홍길동', '심수봉'],\n",
    "        'english' : range(3)}\n",
    "df4 = pd.DataFrame(dict4)\n",
    "\n",
    "print('dataframe3\\n', df3)\n",
    "print('dataframe4\\n', df4)\n",
    "\n",
    "merge3 = pd.merge(df3, df4, left_on='leftkey', right_on='rightkey') # how = 'inner' <- default\n",
    "print(merge3)"
   ]
  },
  {
   "cell_type": "code",
   "execution_count": 8,
   "metadata": {},
   "outputs": [
    {
     "name": "stdout",
     "output_type": "stream",
     "text": [
      "dataframe5\n",
      "   key1 key2  leftval\n",
      "0  김철수  one        4\n",
      "1  김철수  one        5\n",
      "2  박영희  one        6\n",
      "3  박영희  two        7\n",
      "dataframe6\n",
      "   key1 key2  leftval\n",
      "0  김철수  one        1\n",
      "1  김철수  two        2\n",
      "2  박영희  one        3\n",
      "  key1 key2  leftval_x  leftval_y\n",
      "0  김철수  one        4.0        1.0\n",
      "1  김철수  one        5.0        1.0\n",
      "2  박영희  one        6.0        3.0\n",
      "3  박영희  two        7.0        NaN\n",
      "4  김철수  two        NaN        2.0\n",
      "  key1 key2_왼쪽  leftval_왼쪽 key2_오른쪽  leftval_오른쪽\n",
      "0  김철수     one           4      one            1\n",
      "1  김철수     one           4      two            2\n",
      "2  김철수     one           5      one            1\n",
      "3  김철수     one           5      two            2\n",
      "4  박영희     one           6      one            3\n",
      "5  박영희     two           7      one            3\n"
     ]
    }
   ],
   "source": [
    "# 여러 키 병합\n",
    "dict5 = {'key1':['김철수', '김철수', '박영희', '박영희'],\n",
    "        'key2':['one','one','one','two'],\n",
    "        'leftval':[4,5,6,7]}\n",
    "df5 = pd.DataFrame(dict5)\n",
    "\n",
    "dict6 = {'key1':['김철수','김철수','박영희'],\n",
    "        'key2':['one','two','one'],\n",
    "        'leftval':[1, 2, 3]}\n",
    "df6 = pd.DataFrame(dict6)\n",
    "\n",
    "print('dataframe5\\n', df5)\n",
    "print('dataframe6\\n', df6)\n",
    "\n",
    "\n",
    "# 병합할 df이 같은 key를 가지고 있음 \n",
    "## 1.list로 동일한 Key 이름 저장\n",
    "merge_col = ['key1', 'key2']\n",
    "merge4 = pd.merge(df5, df6, on=merge_col, how='outer')\n",
    "print(merge4)\n",
    "\n",
    "## 2. 접미사 suffixes 이용\n",
    "merge5 = pd.merge(df5, df6, on='key1', suffixes = ('_왼쪽', '_오른쪽'))\n",
    "print(merge5)"
   ]
  },
  {
   "cell_type": "code",
   "execution_count": 10,
   "metadata": {},
   "outputs": [
    {
     "name": "stdout",
     "output_type": "stream",
     "text": [
      "new_dataframe1\n",
      "       korean\n",
      "name        \n",
      "홍길동        0\n",
      "홍길동        1\n",
      "김철수        2\n",
      "박영희        3\n",
      "김철수        4\n",
      "김철수        5\n",
      "홍길동        6\n",
      "new_dataframe2\n",
      "       english\n",
      "name         \n",
      "김철수         0\n",
      "홍길동         1\n",
      "심수봉         2\n",
      "      korean  english _merge\n",
      "name                        \n",
      "김철수        2        0   both\n",
      "김철수        4        0   both\n",
      "김철수        5        0   both\n",
      "홍길동        0        1   both\n",
      "홍길동        1        1   both\n",
      "홍길동        6        1   both\n"
     ]
    }
   ],
   "source": [
    "# 색인을 이용한 병합\n",
    "new_df1 = df1.set_index('name')\n",
    "new_df2 = df2.set_index('name')\n",
    "\n",
    "print('new_dataframe1\\n', new_df1)\n",
    "print('new_dataframe2\\n', new_df2)\n",
    "\n",
    "new_merge1 = pd.merge(new_df1, new_df2, left_index = True, right_index = True, indicator = True)\n",
    "print(new_merge1)"
   ]
  },
  {
   "cell_type": "markdown",
   "metadata": {},
   "source": [
    "## 데이터 추출 방법"
   ]
  },
  {
   "cell_type": "code",
   "execution_count": 12,
   "metadata": {},
   "outputs": [
    {
     "name": "stdout",
     "output_type": "stream",
     "text": [
      "       gender  birth  marriage  religion  code_job  income  code_religion\n",
      "0           2   1936         2         2       NaN     NaN              1\n",
      "1           2   1945         2         2       NaN     NaN              1\n",
      "2           1   1948         2         2     942.0   120.0              1\n",
      "3           1   1942         3         1     762.0   200.0              1\n",
      "4           2   1923         2         1       NaN     NaN              1\n",
      "...       ...    ...       ...       ...       ...     ...            ...\n",
      "16659       2   1967         1         1       NaN     NaN              5\n",
      "16660       2   1992         5         1     314.0   302.5              5\n",
      "16661       1   1995         5         1       NaN     NaN              5\n",
      "16662       2   1998         0         1       NaN     NaN              5\n",
      "16663       1   2001         0         1       NaN     NaN              5\n",
      "\n",
      "[16664 rows x 7 columns]\n"
     ]
    }
   ],
   "source": [
    "# data load\n",
    "data = pd.read_csv('../data/welfare_python.csv')\n",
    "print(data)"
   ]
  },
  {
   "cell_type": "code",
   "execution_count": 13,
   "metadata": {},
   "outputs": [
    {
     "name": "stdout",
     "output_type": "stream",
     "text": [
      "   gender  birth  marriage  religion  code_job  income  code_religion\n",
      "0       2   1936         2         2       NaN     NaN              1\n",
      "1       2   1945         2         2       NaN     NaN              1\n",
      "2       1   1948         2         2     942.0   120.0              1\n",
      "3       1   1942         3         1     762.0   200.0              1\n",
      "4       2   1923         2         1       NaN     NaN              1\n",
      "       gender  birth  marriage  religion  code_job  income  code_religion\n",
      "16659       2   1967         1         1       NaN     NaN              5\n",
      "16660       2   1992         5         1     314.0   302.5              5\n",
      "16661       1   1995         5         1       NaN     NaN              5\n",
      "16662       2   1998         0         1       NaN     NaN              5\n",
      "16663       1   2001         0         1       NaN     NaN              5\n",
      "(16664, 7)\n",
      "16664 7\n",
      "Index(['gender', 'birth', 'marriage', 'religion', 'code_job', 'income',\n",
      "       'code_religion'],\n",
      "      dtype='object')\n",
      "gender             int64\n",
      "birth              int64\n",
      "marriage           int64\n",
      "religion           int64\n",
      "code_job         float64\n",
      "income           float64\n",
      "code_religion      int64\n",
      "dtype: object\n",
      "<class 'pandas.core.frame.DataFrame'>\n",
      "RangeIndex: 16664 entries, 0 to 16663\n",
      "Data columns (total 7 columns):\n",
      " #   Column         Non-Null Count  Dtype  \n",
      "---  ------         --------------  -----  \n",
      " 0   gender         16664 non-null  int64  \n",
      " 1   birth          16664 non-null  int64  \n",
      " 2   marriage       16664 non-null  int64  \n",
      " 3   religion       16664 non-null  int64  \n",
      " 4   code_job       7529 non-null   float64\n",
      " 5   income         4634 non-null   float64\n",
      " 6   code_religion  16664 non-null  int64  \n",
      "dtypes: float64(2), int64(5)\n",
      "memory usage: 911.4 KB\n",
      "None\n"
     ]
    }
   ],
   "source": [
    "# head() : 상위 5개 보여주기\n",
    "# tail() : 하위 5개 보여주기\n",
    "print(data.head())\n",
    "print(data.tail())\n",
    "\n",
    "# shape : df의 행 열\n",
    "print(data.shape)\n",
    "print(data.shape[0], data.shape[1])\n",
    "\n",
    "# .columns : df의 columns 불러오기\n",
    "print(data.columns)\n",
    "\n",
    "# .dtypes : 각 컬럼의 데이터 타입 정보\n",
    "print(data.dtypes)\n",
    "\n",
    "# info() : 정보\n",
    "print(data.info())"
   ]
  },
  {
   "cell_type": "code",
   "execution_count": 15,
   "metadata": {},
   "outputs": [
    {
     "name": "stdout",
     "output_type": "stream",
     "text": [
      "       gender  birth  marriage\n",
      "0           2   1936         2\n",
      "1           2   1945         2\n",
      "2           1   1948         2\n",
      "3           1   1942         3\n",
      "4           2   1923         2\n",
      "...       ...    ...       ...\n",
      "16659       2   1967         1\n",
      "16660       2   1992         5\n",
      "16661       1   1995         5\n",
      "16662       2   1998         0\n",
      "16663       1   2001         0\n",
      "\n",
      "[16664 rows x 3 columns]\n",
      "gender              2.0\n",
      "birth            1936.0\n",
      "marriage            2.0\n",
      "religion            2.0\n",
      "code_job            NaN\n",
      "income              NaN\n",
      "code_religion       1.0\n",
      "Name: 0, dtype: float64\n",
      "gender              2.0\n",
      "birth            1945.0\n",
      "marriage            2.0\n",
      "religion            2.0\n",
      "code_job            NaN\n",
      "income              NaN\n",
      "code_religion       1.0\n",
      "Name: 1, dtype: float64\n",
      "gender              1.0\n",
      "birth            2001.0\n",
      "marriage            0.0\n",
      "religion            1.0\n",
      "code_job            NaN\n",
      "income              NaN\n",
      "code_religion       5.0\n",
      "Name: 16663, dtype: float64\n",
      "     gender  birth  marriage  religion  code_job  income  code_religion\n",
      "0         2   1936         2         2       NaN     NaN              1\n",
      "99        2   1938         1         2       NaN     NaN              1\n",
      "999       1   1955         1         1     510.0   129.0              1\n",
      "       gender  religion  income\n",
      "0           2         2     NaN\n",
      "1           2         2     NaN\n",
      "2           1         2   120.0\n",
      "3           1         1   200.0\n",
      "4           2         1     NaN\n",
      "...       ...       ...     ...\n",
      "16659       2         1     NaN\n",
      "16660       2         1   302.5\n",
      "16661       1         1     NaN\n",
      "16662       2         1     NaN\n",
      "16663       1         1     NaN\n",
      "\n",
      "[16664 rows x 3 columns]\n",
      "       marriage  code_job  code_religion\n",
      "0             2       NaN              1\n",
      "1             2       NaN              1\n",
      "2             2     942.0              1\n",
      "3             3     762.0              1\n",
      "4             2       NaN              1\n",
      "...         ...       ...            ...\n",
      "16659         1       NaN              5\n",
      "16660         5     314.0              5\n",
      "16661         5       NaN              5\n",
      "16662         0       NaN              5\n",
      "16663         0       NaN              5\n",
      "\n",
      "[16664 rows x 3 columns]\n"
     ]
    }
   ],
   "source": [
    "# 조회 : 리스트를 활용\n",
    "print(data[['gender', 'birth', 'marriage']])\n",
    "\n",
    "# 조회 : loc 속성 - 행 단위 출력 (라벨의 이름으로)\n",
    "# 조회 : iloc 속성 - 행 단위 출력 (인덱스 번호 기준)\n",
    "print(data.loc[0])\n",
    "print(data.iloc[1])\n",
    "print(data.iloc[-1]) # 맨 마지막\n",
    "print(data.loc[[0, 99, 999]])\n",
    "print(data.loc[:, ['gender', 'religion', 'income']])\n",
    "print(data.iloc[:, [2, 4, -1]])"
   ]
  },
  {
   "cell_type": "markdown",
   "metadata": {},
   "source": [
    "## groupby\n",
    "- 데이터를 분할하고, 반영하고, 결합하는 과정"
   ]
  },
  {
   "cell_type": "code",
   "execution_count": 17,
   "metadata": {},
   "outputs": [
    {
     "name": "stdout",
     "output_type": "stream",
     "text": [
      "[2 3 1 0 5 4 6]\n",
      "marriage\n",
      "0    3.655365\n",
      "1    3.726723\n",
      "2    4.024563\n",
      "3    3.648876\n",
      "4    3.880952\n",
      "5    3.420058\n",
      "6    3.653846\n",
      "Name: code_religion, dtype: float64\n",
      "                code_religion  income\n",
      "marriage birth                       \n",
      "0        1997        3.808081     NaN\n",
      "         1998        3.652850     NaN\n",
      "         1999        3.626794     NaN\n",
      "         2000        3.635945     NaN\n",
      "         2001        3.578947     NaN\n",
      "...                       ...     ...\n",
      "6        1946        3.000000     NaN\n",
      "         1947        4.000000     NaN\n",
      "         1959        4.000000     NaN\n",
      "         1960        2.000000     NaN\n",
      "         1967        7.000000     NaN\n",
      "\n",
      "[339 rows x 2 columns]\n"
     ]
    }
   ],
   "source": [
    "# unique() : 유일한 값\n",
    "print(data['marriage'].unique())\n",
    "\n",
    "\n",
    "# marriage에 대하여 그룹핑을 수행하고, code_religion에 대한 평균을 구하기\n",
    "print(data.groupby('marriage')['code_religion'].mean())\n",
    "\n",
    "# marriage, birth를 그룹화시키고, code_religion, income에 대한 평균값을 출력\n",
    "print(data.groupby(['marriage', 'birth'])[['code_religion', 'income']].mean())"
   ]
  },
  {
   "cell_type": "code",
   "execution_count": null,
   "metadata": {},
   "outputs": [],
   "source": []
  }
 ],
 "metadata": {
  "kernelspec": {
   "display_name": "Python 3",
   "language": "python",
   "name": "python3"
  },
  "language_info": {
   "codemirror_mode": {
    "name": "ipython",
    "version": 3
   },
   "file_extension": ".py",
   "mimetype": "text/x-python",
   "name": "python",
   "nbconvert_exporter": "python",
   "pygments_lexer": "ipython3",
   "version": "3.8.5"
  }
 },
 "nbformat": 4,
 "nbformat_minor": 4
}
