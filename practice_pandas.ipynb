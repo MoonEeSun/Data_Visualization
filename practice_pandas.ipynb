{
 "cells": [
  {
   "cell_type": "markdown",
   "metadata": {},
   "source": [
    "# Series\n",
    "\n",
    "\n",
    "### 1. index가 \"서울, 부산, 광주, 울산\" 이고, 데이터가 \"100, 200, 300, 400\"인 series 생성\n",
    "### 2. (1)에서 만든 series의 이름을 A로, index의 이름을 B로 지정\n",
    "### 3. 다양하게 series 생성하기\n",
    "- data가 0부터 4까지인 series\n",
    "- data가 4부터 10까지 짝수인 series\n",
    "- data가 4부터 8까지이고, Index가 \"a,b,c,d\"인 series\n",
    "- data가 3000,4000이고 index가 seoul, busan인 series (dictionary로 작성)"
   ]
  },
  {
   "cell_type": "code",
   "execution_count": 4,
   "metadata": {},
   "outputs": [],
   "source": [
    "# 1\n",
    "\n",
    "\n",
    "\n",
    "\n",
    "# 2\n",
    "\n",
    "\n",
    "\n",
    "# 3 - 1\n",
    "\n",
    "\n",
    "# 3 - 2\n",
    "\n",
    "\n",
    "# 3 - 3\n",
    "\n",
    "\n",
    "# 3 - 4\n",
    "\n"
   ]
  },
  {
   "cell_type": "markdown",
   "metadata": {},
   "source": [
    "###  4. index가 \"seoul, busan, gwangju, daegu, ulsan, mokppo, yoesoo\"이고, 인덱스가 10부터 70까지인 series\n",
    "- 단, index는 반복문을 이용하여 접근할 것\n",
    "\n",
    "#### 4-2. gwangju에 해당하는 index와 data 출력\n",
    "#### 4-3. seoul의 data만 출력\n",
    "#### 4-4. busan부터 mokpo까지 출력\n",
    "#### 4-5. busan과 mokpo 출력\n",
    "#### 4-6. 4번째 행의 index와 data 출력\n",
    "#### 4-7. 4번째 행의 data만 출력\n",
    "#### 4-8. 짝수번째 행 출력\n",
    "#### 4-9. 3번째부터 5번째 행까지 출력"
   ]
  },
  {
   "cell_type": "code",
   "execution_count": 5,
   "metadata": {},
   "outputs": [],
   "source": [
    "# 4\n",
    "\n",
    "# 4-2\n",
    "\n",
    "# 4-3\n",
    "\n",
    "# 4-4\n",
    "\n",
    "# 4-5\n",
    "\n",
    "# 4-6\n",
    "\n",
    "# 4-7\n",
    "\n",
    "# 4-8\n",
    "\n",
    "# 4-9"
   ]
  },
  {
   "cell_type": "markdown",
   "metadata": {},
   "source": [
    "### 5. series 값 변경\n",
    "#### 5-1. 3번째부터 5번째까지 값을 33으로 변경\n",
    "#### 5-2. 짝수행만 58로 변경"
   ]
  },
  {
   "cell_type": "code",
   "execution_count": 6,
   "metadata": {},
   "outputs": [],
   "source": [
    "# 5-1\n",
    "\n",
    "\n",
    "# 5-2\n",
    "\n",
    "\n"
   ]
  },
  {
   "cell_type": "markdown",
   "metadata": {},
   "source": [
    "# DataFrame\n",
    "### 1. 행이름이 \"이선, 종욱, 진명, 병준, 재호\"이고, 열이름이 \"seoul, busan, gwangju, mokpo, ulsan'이며, 데이터가 10의 배수인 dataframe 만들기\n",
    "\n",
    "### 2. 위와 같은 형식의 dataframe을 똑같이 만드는데, dictionary 형태의 데이터에서 dataframe으로 바꾸기"
   ]
  },
  {
   "cell_type": "code",
   "execution_count": 7,
   "metadata": {},
   "outputs": [],
   "source": [
    "# 1\n",
    "\n",
    "\n",
    "\n",
    "\n",
    "\n",
    "# 2\n",
    "\n",
    "\n",
    "\n",
    "\n",
    "\n"
   ]
  },
  {
   "cell_type": "markdown",
   "metadata": {},
   "source": [
    "### 3. 행 추출\n",
    "#### 3-1. 1행 추출 (결과값 series)\n",
    "#### 3-2. '이선'추출 (결과값 series)\n",
    "#### 3-3. 1행 3열 추출\n",
    "#### 3-4. 1행, 3행 추출\n",
    "#### 3-5. '이선'행 dataframe으로 추출\n",
    "#### 3-6. 짝수행 추출\n",
    "#### 3-7. '이선, 종욱'행 추출\n",
    "#### 3-8. 1행부터 3행까지 추출"
   ]
  },
  {
   "cell_type": "code",
   "execution_count": 9,
   "metadata": {},
   "outputs": [],
   "source": [
    "# 3-1\n",
    "\n",
    "# 3-2\n",
    "\n",
    "# 3-3\n",
    "\n",
    "# 3-4\n",
    "\n",
    "# 3-5\n",
    "\n",
    "# 3-6\n",
    "\n",
    "# 3-7\n",
    "\n",
    "# 3-8\n",
    "\n",
    "# 3-9\n"
   ]
  },
  {
   "cell_type": "markdown",
   "metadata": {},
   "source": [
    "### 4. dataframe 추출\n",
    "#### 4-1. 이선의 광주 추출\n",
    "#### 4-2. 이선과 종욱의 seoul, gwangju 추출\n",
    "#### 4-3. 이선부터 병준까지, seoul부터 ulsan까지 추출\n",
    "#### 4-4. 종욱부터 재호까지 busan만 추출\n",
    "#### 4-5. 인덱스 모두 추출\n",
    "#### 4-6. 인덱스중 랜덤으로 3명 뽑아 그 3명의 dataframe 추출\n",
    "#### 4-7. busan이 100이하인 사람의 행만 추출\n",
    "#### 4-8. mokpo의 데이터가 140인 행만 추출\n",
    "#### 4-9. 조건1 : busan이 70이상, 조건2 : mokpo가 140이상 으로 지정하여, dataframe 생성\n",
    "#### 4-10. (4-9)에서의 논리연산AND가 True인 행만 추출\n",
    "#### 4-11. (4-9)에서의 논리연산OR이 True인 행만 추출"
   ]
  },
  {
   "cell_type": "code",
   "execution_count": 10,
   "metadata": {},
   "outputs": [],
   "source": [
    "# 4-1\n",
    "\n",
    "# 4-2\n",
    "\n",
    "# 4-3\n",
    "\n",
    "# 4-4\n",
    "\n",
    "# 4-5\n",
    "\n",
    "# 4-6\n",
    "\n",
    "# 4-7\n",
    "\n",
    "# 4-8\n",
    "\n",
    "# 4-9\n",
    "\n",
    "# 4-10\n",
    "\n",
    "# 4-11"
   ]
  },
  {
   "cell_type": "markdown",
   "metadata": {},
   "source": [
    "### 5. 조건으로 dataframe추출\n",
    "#### 5-1. 광주가 130이상인 행만 추출 ( lambda 함수 활용 )\n",
    "#### 5-2. 광주행만 추출\n",
    "#### 5-3. 서울실적이 150이하인 데이터를 모두 80으로 바꾸기\n",
    "#### 5-4. 광주의 값이 150이하인 행에 대하여 부산과 목포의 값을 80으로 바꾸기\n",
    "#### 5-4. 부산의 실적이 100이하인 항목 조회"
   ]
  },
  {
   "cell_type": "code",
   "execution_count": 11,
   "metadata": {},
   "outputs": [],
   "source": [
    "# 5-1\n",
    "\n",
    "# 5-2\n",
    "\n",
    "# 5-3\n",
    "\n",
    "# 5-4\n"
   ]
  },
  {
   "cell_type": "markdown",
   "metadata": {},
   "source": [
    "# apply 함수 적용\n",
    "### 1. memberinfo.csv 불러와서 id를 index로 지정\n",
    "### 2. 각각의 국어 점수에 대하여 5를 더하기\n",
    "### 3. 각각의 영어점수에 대하여 곱하는 함수 만들어서 최종적으로 10을 곱하기\n",
    "### 4. 컬럼방향으로 평균값을 구해주기\n",
    "### 5. 행방향으로 평균값을 구해주기"
   ]
  },
  {
   "cell_type": "code",
   "execution_count": 1,
   "metadata": {},
   "outputs": [],
   "source": [
    "# 1\n",
    "\n",
    "\n",
    "\n",
    "\n",
    "# 2\n",
    "\n",
    "\n",
    "\n",
    "\n",
    "# 3\n",
    "\n",
    "\n",
    "\n",
    "\n",
    "# 4\n",
    "\n",
    "\n",
    "\n",
    "\n",
    "\n",
    "\n",
    "# 5"
   ]
  },
  {
   "cell_type": "code",
   "execution_count": null,
   "metadata": {},
   "outputs": [],
   "source": []
  }
 ],
 "metadata": {
  "kernelspec": {
   "display_name": "Python 3",
   "language": "python",
   "name": "python3"
  },
  "language_info": {
   "codemirror_mode": {
    "name": "ipython",
    "version": 3
   },
   "file_extension": ".py",
   "mimetype": "text/x-python",
   "name": "python",
   "nbconvert_exporter": "python",
   "pygments_lexer": "ipython3",
   "version": "3.8.5"
  }
 },
 "nbformat": 4,
 "nbformat_minor": 4
}
