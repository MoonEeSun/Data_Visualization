{
 "cells": [
  {
   "cell_type": "code",
   "execution_count": 5,
   "metadata": {},
   "outputs": [],
   "source": [
    "import matplotlib.pyplot as plt\n",
    "import pandas as pd\n",
    "import numpy as np\n",
    "\n",
    "# 폰트\n",
    "plt.rc('font', family = 'AppleGothic')\n",
    "\n",
    "# 그래프를 이미지로 저장할 때\n",
    "cnt, PNG, UNDERBAR = 0, '.png', '_'\n",
    "CHART_NAME = 'Box_plot'"
   ]
  },
  {
   "cell_type": "code",
   "execution_count": 6,
   "metadata": {},
   "outputs": [],
   "source": [
    "def FileSave():\n",
    "    global cnt\n",
    "    cnt +=1\n",
    "    savefile = CHART_NAME + UNDERBAR + str(cnt).zfill(2) + PNG\n",
    "    plt.savefig(savefile, dpi = 400)\n",
    "    print(savefile + '파일이 저장되었습니다.')"
   ]
  },
  {
   "cell_type": "markdown",
   "metadata": {},
   "source": [
    "# rectangular & Notched box plot"
   ]
  },
  {
   "cell_type": "code",
   "execution_count": 7,
   "metadata": {},
   "outputs": [
    {
     "name": "stdout",
     "output_type": "stream",
     "text": [
      "     Unnamed: 0  total_bill   tip     sex smoker   day    time  size\n",
      "0             0       16.99  1.01  Female     No   Sun  Dinner     2\n",
      "1             1       10.34  1.66    Male     No   Sun  Dinner     3\n",
      "2             2       21.01  3.50    Male     No   Sun  Dinner     3\n",
      "3             3       23.68  3.31    Male     No   Sun  Dinner     2\n",
      "4             4       24.59  3.61  Female     No   Sun  Dinner     4\n",
      "..          ...         ...   ...     ...    ...   ...     ...   ...\n",
      "239         239       29.03  5.92    Male     No   Sat  Dinner     3\n",
      "240         240       27.18  2.00  Female    Yes   Sat  Dinner     2\n",
      "241         241       22.67  2.00    Male    Yes   Sat  Dinner     2\n",
      "242         242       17.82  1.75    Male     No   Sat  Dinner     2\n",
      "243         243       18.78  3.00  Female     No  Thur  Dinner     2\n",
      "\n",
      "[244 rows x 8 columns]\n",
      "chartdata\n",
      "[array([16.99, 10.34, 21.01, 23.68, 24.59, 25.29,  8.77, 26.88, 15.04,\n",
      "       14.78, 10.27, 35.26, 15.42, 18.43, 14.83, 21.58, 10.33, 16.29,\n",
      "       16.97, 20.65, 17.92, 20.29, 15.77, 39.42, 19.82, 17.81, 13.37,\n",
      "       12.69, 21.7 , 19.65,  9.55, 18.35, 15.06, 20.69, 17.78, 24.06,\n",
      "       16.31, 16.93, 18.69, 31.27, 16.04, 17.46, 13.94,  9.68, 30.4 ,\n",
      "       18.29, 22.23, 32.4 , 28.55, 18.04, 12.54, 10.29, 34.81,  9.94,\n",
      "       25.56, 19.49, 38.01, 26.41, 11.24, 48.27, 20.29, 13.81, 11.02,\n",
      "       18.29, 17.59, 20.08, 16.45,  3.07, 20.23, 15.01, 12.02, 17.07,\n",
      "       26.86, 25.28, 14.73, 10.51, 17.92, 28.97, 22.49,  5.75, 16.32,\n",
      "       22.75, 40.17, 27.28, 12.03, 21.01, 12.46, 11.35, 15.38, 44.3 ,\n",
      "       22.42, 20.92, 15.36, 20.49, 25.21, 18.24, 14.31, 14.  ,  7.25,\n",
      "       38.07, 23.95, 25.71, 17.31, 29.93, 14.07, 13.13, 17.26, 24.55,\n",
      "       19.77, 29.85, 48.17, 25.  , 13.39, 16.49, 21.5 , 12.66, 16.21,\n",
      "       13.81, 17.51, 24.52, 20.76, 31.71, 10.59, 10.63, 50.81, 15.81,\n",
      "        7.25, 31.85, 16.82, 32.9 , 17.89, 14.48,  9.6 , 34.63, 34.65,\n",
      "       23.33, 45.35, 23.17, 40.55, 20.69, 20.9 , 30.46, 18.15, 23.1 ,\n",
      "       15.69, 26.59, 38.73, 24.27, 12.76, 30.06, 25.89, 48.33, 13.27,\n",
      "       28.17, 12.9 , 28.15, 11.59,  7.74, 30.14, 20.45, 13.28, 22.12,\n",
      "       24.01, 15.69, 11.61, 10.77, 15.53, 10.07, 12.6 , 32.83, 35.83,\n",
      "       29.03, 27.18, 22.67, 17.82, 18.78]), array([27.2 , 22.76, 17.29, 19.44, 16.66, 10.07, 32.68, 15.98, 34.83,\n",
      "       13.03, 18.28, 24.71, 21.16, 10.65, 12.43, 24.08, 11.69, 13.42,\n",
      "       14.26, 15.95, 12.48, 29.8 ,  8.52, 14.52, 11.38, 22.82, 19.08,\n",
      "       20.27, 11.17, 12.26, 18.26,  8.51, 10.33, 14.15, 16.  , 13.16,\n",
      "       17.47, 34.3 , 41.19, 27.05, 16.43,  8.35, 18.64, 11.87,  9.78,\n",
      "        7.51, 19.81, 28.44, 15.48, 16.58,  7.56, 10.34, 43.11, 13.  ,\n",
      "       13.51, 18.71, 12.74, 13.  , 16.4 , 20.53, 16.47, 12.16, 13.42,\n",
      "        8.58, 15.98, 13.42, 16.27, 10.09])]\n",
      "Box_plot_01.png파일이 저장되었습니다.\n"
     ]
    },
    {
     "data": {
      "image/png": "[encoded data removed]",
      "text/plain": [
       "<Figure size 648x288 with 2 Axes>"
      ]
     },
     "metadata": {
      "needs_background": "light"
     },
     "output_type": "display_data"
    }
   ],
   "source": [
    "# data load\n",
    "data3 = pd.read_csv('../data/tips.csv')\n",
    "print(data3)\n",
    "DINNER, LUNCH = 'Dinner', 'Lunch'\n",
    "\n",
    "frame01 = data3.loc[data3['time'] == DINNER, 'total_bill']\n",
    "frame01.index.name = DINNER\n",
    "\n",
    "frame02 = data3.loc[data3['time'] == LUNCH, 'total_bill']\n",
    "frame02.index.name = LUNCH\n",
    "\n",
    "chartdata = [np.array(frame01), np.array(frame02)]\n",
    "print('chartdata')\n",
    "print(chartdata)\n",
    "\n",
    "\n",
    "\n",
    "# x 축을 위한 레이블\n",
    "xtick_label = [DINNER, LUNCH] \n",
    "\n",
    "# 행의 개수는 1, 열의 개수는 2 - 축은 ax1, ax2\n",
    "fig1, (ax1, ax2) = plt.subplots(nrows=1, ncols=2, figsize=(9, 4))\n",
    "\n",
    "# rectangular box plot - notch=Fasle\n",
    "bplot1 = ax1.boxplot(chartdata,\n",
    "                     vert=True,  # vertical box alignment\n",
    "                     patch_artist=True,  # fill with color\n",
    "                     labels=xtick_label)  # will be used to label x-ticks\n",
    "ax1.set_title('Rectangular box plot')\n",
    "\n",
    "# notch shape box plot\n",
    "bplot2 = ax2.boxplot(chartdata,\n",
    "                     notch=True,  # notch shape :: 홈이 패인 plot\n",
    "                     vert=True,  # vertical box alignment\n",
    "                     patch_artist=True,  # fill with color\n",
    "                     labels=xtick_label)  # will be used to label x-ticks\n",
    "ax2.set_title('Notched box plot')\n",
    "\n",
    "\n",
    "# fill with colors\n",
    "colors = ['pink', 'lightblue']\n",
    "for bplot in (bplot1, bplot2):\n",
    "    for patch, color in zip(bplot['boxes'], colors): # dinner, lunch에 대한 Plot\n",
    "        patch.set_facecolor(color)\n",
    "\n",
    "# adding horizontal grid lines\n",
    "for ax in [ax1, ax2]:\n",
    "    ax.yaxis.grid(True)\n",
    "    ax.set_xlabel('점심과 저녁 팁')\n",
    "    ax.set_ylabel('observed data')\n",
    "    \n",
    "    \n",
    "# plt.show()\n",
    "FileSave()"
   ]
  },
  {
   "cell_type": "markdown",
   "metadata": {},
   "source": [
    "# violin & box plot"
   ]
  },
  {
   "cell_type": "code",
   "execution_count": 8,
   "metadata": {},
   "outputs": [
    {
     "name": "stdout",
     "output_type": "stream",
     "text": [
      "     Unnamed: 0  total_bill   tip     sex smoker   day    time  size\n",
      "0             0       16.99  1.01  Female     No   Sun  Dinner     2\n",
      "1             1       10.34  1.66    Male     No   Sun  Dinner     3\n",
      "2             2       21.01  3.50    Male     No   Sun  Dinner     3\n",
      "3             3       23.68  3.31    Male     No   Sun  Dinner     2\n",
      "4             4       24.59  3.61  Female     No   Sun  Dinner     4\n",
      "..          ...         ...   ...     ...    ...   ...     ...   ...\n",
      "239         239       29.03  5.92    Male     No   Sat  Dinner     3\n",
      "240         240       27.18  2.00  Female    Yes   Sat  Dinner     2\n",
      "241         241       22.67  2.00    Male    Yes   Sat  Dinner     2\n",
      "242         242       17.82  1.75    Male     No   Sat  Dinner     2\n",
      "243         243       18.78  3.00  Female     No  Thur  Dinner     2\n",
      "\n",
      "[244 rows x 8 columns]\n",
      "chartdata\n",
      "[array([16.99, 10.34, 21.01, 23.68, 24.59, 25.29,  8.77, 26.88, 15.04,\n",
      "       14.78, 10.27, 35.26, 15.42, 18.43, 14.83, 21.58, 10.33, 16.29,\n",
      "       16.97, 20.65, 17.92, 20.29, 15.77, 39.42, 19.82, 17.81, 13.37,\n",
      "       12.69, 21.7 , 19.65,  9.55, 18.35, 15.06, 20.69, 17.78, 24.06,\n",
      "       16.31, 16.93, 18.69, 31.27, 16.04, 17.46, 13.94,  9.68, 30.4 ,\n",
      "       18.29, 22.23, 32.4 , 28.55, 18.04, 12.54, 10.29, 34.81,  9.94,\n",
      "       25.56, 19.49, 38.01, 26.41, 11.24, 48.27, 20.29, 13.81, 11.02,\n",
      "       18.29, 17.59, 20.08, 16.45,  3.07, 20.23, 15.01, 12.02, 17.07,\n",
      "       26.86, 25.28, 14.73, 10.51, 17.92, 28.97, 22.49,  5.75, 16.32,\n",
      "       22.75, 40.17, 27.28, 12.03, 21.01, 12.46, 11.35, 15.38, 44.3 ,\n",
      "       22.42, 20.92, 15.36, 20.49, 25.21, 18.24, 14.31, 14.  ,  7.25,\n",
      "       38.07, 23.95, 25.71, 17.31, 29.93, 14.07, 13.13, 17.26, 24.55,\n",
      "       19.77, 29.85, 48.17, 25.  , 13.39, 16.49, 21.5 , 12.66, 16.21,\n",
      "       13.81, 17.51, 24.52, 20.76, 31.71, 10.59, 10.63, 50.81, 15.81,\n",
      "        7.25, 31.85, 16.82, 32.9 , 17.89, 14.48,  9.6 , 34.63, 34.65,\n",
      "       23.33, 45.35, 23.17, 40.55, 20.69, 20.9 , 30.46, 18.15, 23.1 ,\n",
      "       15.69, 26.59, 38.73, 24.27, 12.76, 30.06, 25.89, 48.33, 13.27,\n",
      "       28.17, 12.9 , 28.15, 11.59,  7.74, 30.14, 20.45, 13.28, 22.12,\n",
      "       24.01, 15.69, 11.61, 10.77, 15.53, 10.07, 12.6 , 32.83, 35.83,\n",
      "       29.03, 27.18, 22.67, 17.82, 18.78]), array([27.2 , 22.76, 17.29, 19.44, 16.66, 10.07, 32.68, 15.98, 34.83,\n",
      "       13.03, 18.28, 24.71, 21.16, 10.65, 12.43, 24.08, 11.69, 13.42,\n",
      "       14.26, 15.95, 12.48, 29.8 ,  8.52, 14.52, 11.38, 22.82, 19.08,\n",
      "       20.27, 11.17, 12.26, 18.26,  8.51, 10.33, 14.15, 16.  , 13.16,\n",
      "       17.47, 34.3 , 41.19, 27.05, 16.43,  8.35, 18.64, 11.87,  9.78,\n",
      "        7.51, 19.81, 28.44, 15.48, 16.58,  7.56, 10.34, 43.11, 13.  ,\n",
      "       13.51, 18.71, 12.74, 13.  , 16.4 , 20.53, 16.47, 12.16, 13.42,\n",
      "        8.58, 15.98, 13.42, 16.27, 10.09])]\n",
      "Box_plot_02.png파일이 저장되었습니다.\n"
     ]
    },
    {
     "data": {
      "image/png": "[encoded data removed]",
      "text/plain": [
       "<Figure size 648x288 with 2 Axes>"
      ]
     },
     "metadata": {
      "needs_background": "light"
     },
     "output_type": "display_data"
    }
   ],
   "source": [
    "# data load\n",
    "data3 = pd.read_csv('../data/tips.csv')\n",
    "print(data3)\n",
    "DINNER, LUNCH = 'Dinner', 'Lunch'\n",
    "\n",
    "frame01 = data3.loc[data3['time'] == DINNER, 'total_bill']\n",
    "frame01.index.name = DINNER\n",
    "\n",
    "frame02 = data3.loc[data3['time'] == LUNCH, 'total_bill']\n",
    "frame02.index.name = LUNCH\n",
    "\n",
    "chartdata = [np.array(frame01), np.array(frame02)]\n",
    "print('chartdata')\n",
    "print(chartdata)\n",
    "\n",
    "\n",
    "\n",
    "\n",
    "\n",
    "fig2, axs = plt.subplots(nrows=1, ncols=2, figsize=(9, 4))\n",
    "\n",
    "# plot violin plot\n",
    "axs[0].violinplot(chartdata,\n",
    "                  showmeans=False, # 평균값이 가로줄로 들어가지 않게끔\n",
    "                  showmedians=True) # 중간값이 가로줄로 들어가게끔\n",
    "axs[0].set_title('Violin plot')\n",
    "\n",
    "axs[1].boxplot(chartdata) # plot box plot\n",
    "axs[1].set_title('Box plot')\n",
    "\n",
    "\n",
    "# adding horizontal grid lines\n",
    "for ax in axs:\n",
    "    ax.yaxis.grid(True)\n",
    "    ax.set_xticks([y + 1 for y in range(len(chartdata))])\n",
    "    ax.set_xlabel('점심과 저녁 팁')\n",
    "    ax.set_ylabel('observed data')\n",
    "\n",
    "# add x-tick labels\n",
    "plt.setp(axs, xticks=[y + 1 for y in range(len(chartdata))],\n",
    "         xticklabels=[DINNER, LUNCH])\n",
    "\n",
    "\n",
    "# plt.show()\n",
    "FileSave()"
   ]
  },
  {
   "cell_type": "code",
   "execution_count": 9,
   "metadata": {},
   "outputs": [],
   "source": [
    "from matplotlib.backends.backend_pdf import PdfPages\n",
    "\n",
    "pdfsave = PdfPages(CHART_NAME + \"_19011773.pdf\")\n",
    "pdfsave.savefig(fig1)\n",
    "pdfsave.savefig(fig2)\n",
    "pdfsave.close()"
   ]
  },
  {
   "cell_type": "code",
   "execution_count": null,
   "metadata": {},
   "outputs": [],
   "source": []
  }
 ],
 "metadata": {
  "kernelspec": {
   "display_name": "Python 3",
   "language": "python",
   "name": "python3"
  },
  "language_info": {
   "codemirror_mode": {
    "name": "ipython",
    "version": 3
   },
   "file_extension": ".py",
   "mimetype": "text/x-python",
   "name": "python",
   "nbconvert_exporter": "python",
   "pygments_lexer": "ipython3",
   "version": "3.8.5"
  }
 },
 "nbformat": 4,
 "nbformat_minor": 4
}
