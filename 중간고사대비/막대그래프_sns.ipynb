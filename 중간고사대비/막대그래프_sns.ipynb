{
 "cells": [
  {
   "cell_type": "code",
   "execution_count": 30,
   "metadata": {},
   "outputs": [],
   "source": [
    "import warnings\n",
    "warnings.simplefilter(action='ignore', category=FutureWarning)\n",
    "\n",
    "import matplotlib.pyplot as plt\n",
    "import pandas as pd\n",
    "import numpy as np\n",
    "import seaborn as sns"
   ]
  },
  {
   "cell_type": "code",
   "execution_count": 31,
   "metadata": {},
   "outputs": [],
   "source": [
    "plt.rc('font', family='AppleGothic')\n",
    "plt.rcParams[\"font.size\"] = 12.\n",
    "plt.rcParams['xtick.labelsize'] = 12.\n",
    "plt.rcParams['ytick.labelsize'] = 12.\n",
    "plt.rcParams['axes.unicode_minus'] = False"
   ]
  },
  {
   "cell_type": "code",
   "execution_count": 32,
   "metadata": {},
   "outputs": [],
   "source": [
    "CHART_NAME = 'Bar_plot_sns'\n",
    "cnt, PNG, UNDERBAR = 0, '.png', '_'\n",
    "filename = 'welfareClean.csv'"
   ]
  },
  {
   "cell_type": "code",
   "execution_count": 33,
   "metadata": {},
   "outputs": [],
   "source": [
    "# 파일 저장\n",
    "\n",
    "def FileSave():\n",
    "    global cnt\n",
    "    cnt +=1\n",
    "    savefile = CHART_NAME + UNDERBAR + str(cnt).zfill(2) + PNG\n",
    "    plt.savefig(savefile, dpi = 400)\n",
    "    print(savefile + '파일이 저장되었습니다.')"
   ]
  },
  {
   "cell_type": "markdown",
   "metadata": {},
   "source": [
    "# 단일 막대그래프"
   ]
  },
  {
   "cell_type": "code",
   "execution_count": 34,
   "metadata": {},
   "outputs": [
    {
     "name": "stdout",
     "output_type": "stream",
     "text": [
      "Index(['성별', '생일', '결혼 유무', '종교 유무', '직업 코드', '소득', '지역구', '나이', '직업', '연령대'], dtype='object')\n",
      "      성별    생일 결혼 유무 종교 유무  직업 코드           소득           지역구  나이  \\\n",
      "0     남성  1948   무응답    없음  942.0   120.000000            서울  74   \n",
      "1     남성  1945    이혼    없음  942.0   220.200000            서울  77   \n",
      "2     남성  1946    결혼    없음  942.0   139.000000            서울  76   \n",
      "3     남성  1953    결혼    없음  942.0   150.000000            서울  69   \n",
      "4     남성  1960    결혼    있음  942.0   166.000000            서울  62   \n",
      "...   ..   ...   ...   ...    ...          ...           ...  ..   \n",
      "7524  여성  1950    결혼    있음  819.0   241.619016         강원/충북  72   \n",
      "7525  남성  1960    결혼    있음  111.0   250.000000  광주/전남/전북/제주도  62   \n",
      "7526  남성  1960    결혼    없음  111.0  1250.000000            서울  62   \n",
      "7527  남성  1992   무응답    있음  876.0   280.000000      부산/경남/울산  30   \n",
      "7528  남성  1935    결혼    있음  876.0   156.000000      부산/경남/울산  87   \n",
      "\n",
      "                       직업 연령대  \n",
      "0               경비원 및 검표원  노년  \n",
      "1               경비원 및 검표원  노년  \n",
      "2               경비원 및 검표원  노년  \n",
      "3               경비원 및 검표원  노년  \n",
      "4               경비원 및 검표원  노년  \n",
      "...                   ...  ..  \n",
      "7524      기타 식품가공관련 기계조작원  노년  \n",
      "7525  의회의원 고위공무원 및 공공단체임원  노년  \n",
      "7526  의회의원 고위공무원 및 공공단체임원  노년  \n",
      "7527    선박 갑판승무원 및 관련 종사원  중년  \n",
      "7528    선박 갑판승무원 및 관련 종사원  노년  \n",
      "\n",
      "[7529 rows x 10 columns]\n",
      "결혼 유무 빈도\n",
      "결혼 유무\n",
      "결혼     5307\n",
      "무응답    1803\n",
      "이혼      419\n",
      "Name: 결혼 유무, dtype: int64\n",
      "Bar_plot_sns_01.png파일이 저장되었습니다.\n"
     ]
    },
    {
     "data": {
      "image/png": "[encoded data removed]",
      "text/plain": [
       "<Figure size 432x288 with 1 Axes>"
      ]
     },
     "metadata": {
      "needs_background": "light"
     },
     "output_type": "display_data"
    }
   ],
   "source": [
    "# data load\n",
    "welfare = pd.read_csv(filename, encoding = 'CP949')\n",
    "print(welfare.columns)\n",
    "print(welfare)\n",
    "\n",
    "print(\"결혼 유무 빈도\")\n",
    "\n",
    "# 결혼 유무의 범주별로 각각 몇 건이 존재하는지 확인, 그룹별 개수 groupby 매소드 사용\n",
    "result = welfare.groupby('결혼 유무')['결혼 유무'].count()\n",
    "print(result)\n",
    "\n",
    "ORDERING = ['결혼', '이혼', '무응답']\n",
    "\n",
    "\n",
    "fig1 = plt.figure()\n",
    "plt.title('결혼 유무 빈도')\n",
    "sns.countplot(x='결혼 유무', data=welfare, order=ORDERING)\n",
    "\n",
    "# plt.show()\n",
    "FileSave()\n"
   ]
  },
  {
   "cell_type": "markdown",
   "metadata": {},
   "source": [
    "# 다중 막대그래프"
   ]
  },
  {
   "cell_type": "code",
   "execution_count": 35,
   "metadata": {},
   "outputs": [
    {
     "name": "stdout",
     "output_type": "stream",
     "text": [
      "Index(['성별', '생일', '결혼 유무', '종교 유무', '직업 코드', '소득', '지역구', '나이', '직업', '연령대'], dtype='object')\n",
      "      성별    생일 결혼 유무 종교 유무  직업 코드           소득           지역구  나이  \\\n",
      "0     남성  1948   무응답    없음  942.0   120.000000            서울  74   \n",
      "1     남성  1945    이혼    없음  942.0   220.200000            서울  77   \n",
      "2     남성  1946    결혼    없음  942.0   139.000000            서울  76   \n",
      "3     남성  1953    결혼    없음  942.0   150.000000            서울  69   \n",
      "4     남성  1960    결혼    있음  942.0   166.000000            서울  62   \n",
      "...   ..   ...   ...   ...    ...          ...           ...  ..   \n",
      "7524  여성  1950    결혼    있음  819.0   241.619016         강원/충북  72   \n",
      "7525  남성  1960    결혼    있음  111.0   250.000000  광주/전남/전북/제주도  62   \n",
      "7526  남성  1960    결혼    없음  111.0  1250.000000            서울  62   \n",
      "7527  남성  1992   무응답    있음  876.0   280.000000      부산/경남/울산  30   \n",
      "7528  남성  1935    결혼    있음  876.0   156.000000      부산/경남/울산  87   \n",
      "\n",
      "                       직업 연령대  \n",
      "0               경비원 및 검표원  노년  \n",
      "1               경비원 및 검표원  노년  \n",
      "2               경비원 및 검표원  노년  \n",
      "3               경비원 및 검표원  노년  \n",
      "4               경비원 및 검표원  노년  \n",
      "...                   ...  ..  \n",
      "7524      기타 식품가공관련 기계조작원  노년  \n",
      "7525  의회의원 고위공무원 및 공공단체임원  노년  \n",
      "7526  의회의원 고위공무원 및 공공단체임원  노년  \n",
      "7527    선박 갑판승무원 및 관련 종사원  중년  \n",
      "7528    선박 갑판승무원 및 관련 종사원  노년  \n",
      "\n",
      "[7529 rows x 10 columns]\n",
      "결혼 유무 vs 종교 유무 빈도\n",
      "결혼 유무  종교 유무\n",
      "결혼     없음       2778\n",
      "       있음       2529\n",
      "무응답    없음        932\n",
      "       있음        871\n",
      "이혼     없음        247\n",
      "       있음        172\n",
      "Name: 결혼 유무, dtype: int64\n",
      "Bar_plot_sns_02.png파일이 저장되었습니다.\n"
     ]
    },
    {
     "data": {
      "image/png": "[encoded data removed]",
      "text/plain": [
       "<Figure size 432x288 with 1 Axes>"
      ]
     },
     "metadata": {
      "needs_background": "light"
     },
     "output_type": "display_data"
    }
   ],
   "source": [
    "# data load\n",
    "welfare = pd.read_csv(filename, encoding = 'CP949')\n",
    "print(welfare.columns)\n",
    "print(welfare)\n",
    "\n",
    "\n",
    "print(\"결혼 유무 vs 종교 유무 빈도\")\n",
    "\n",
    "# 결혼 유무의 범주별로 각각 몇 건이 존재하는지 확인, 그룹별 개수 groupby 매소드 사용\n",
    "result = welfare.groupby(['결혼 유무', '종교 유무'])['결혼 유무'].count()\n",
    "print(result)\n",
    "\n",
    "ORDERING = ['결혼', '이혼', '무응답']\n",
    "fig2 = plt.figure()\n",
    "plt.title('결혼 유무 vs 종교 유무 빈도')\n",
    "\n",
    "# hue: 특성을 구분할 컬럼 - 하위 구조\n",
    "sns.countplot(x='결혼 유무', hue = '종교 유무', data=welfare, order=ORDERING)\n",
    "\n",
    "# plt.show()\n",
    "FileSave()"
   ]
  },
  {
   "cell_type": "markdown",
   "metadata": {},
   "source": [
    "# 막대의 테두리 선 굵기 지정"
   ]
  },
  {
   "cell_type": "code",
   "execution_count": 36,
   "metadata": {},
   "outputs": [
    {
     "name": "stdout",
     "output_type": "stream",
     "text": [
      "Index(['성별', '생일', '결혼 유무', '종교 유무', '직업 코드', '소득', '지역구', '나이', '직업', '연령대'], dtype='object')\n",
      "      성별    생일 결혼 유무 종교 유무  직업 코드           소득           지역구  나이  \\\n",
      "0     남성  1948   무응답    없음  942.0   120.000000            서울  74   \n",
      "1     남성  1945    이혼    없음  942.0   220.200000            서울  77   \n",
      "2     남성  1946    결혼    없음  942.0   139.000000            서울  76   \n",
      "3     남성  1953    결혼    없음  942.0   150.000000            서울  69   \n",
      "4     남성  1960    결혼    있음  942.0   166.000000            서울  62   \n",
      "...   ..   ...   ...   ...    ...          ...           ...  ..   \n",
      "7524  여성  1950    결혼    있음  819.0   241.619016         강원/충북  72   \n",
      "7525  남성  1960    결혼    있음  111.0   250.000000  광주/전남/전북/제주도  62   \n",
      "7526  남성  1960    결혼    없음  111.0  1250.000000            서울  62   \n",
      "7527  남성  1992   무응답    있음  876.0   280.000000      부산/경남/울산  30   \n",
      "7528  남성  1935    결혼    있음  876.0   156.000000      부산/경남/울산  87   \n",
      "\n",
      "                       직업 연령대  \n",
      "0               경비원 및 검표원  노년  \n",
      "1               경비원 및 검표원  노년  \n",
      "2               경비원 및 검표원  노년  \n",
      "3               경비원 및 검표원  노년  \n",
      "4               경비원 및 검표원  노년  \n",
      "...                   ...  ..  \n",
      "7524      기타 식품가공관련 기계조작원  노년  \n",
      "7525  의회의원 고위공무원 및 공공단체임원  노년  \n",
      "7526  의회의원 고위공무원 및 공공단체임원  노년  \n",
      "7527    선박 갑판승무원 및 관련 종사원  중년  \n",
      "7528    선박 갑판승무원 및 관련 종사원  노년  \n",
      "\n",
      "[7529 rows x 10 columns]\n",
      "Bar_plot_sns_03.png파일이 저장되었습니다.\n"
     ]
    },
    {
     "data": {
      "image/png": "[encoded data removed]",
      "text/plain": [
       "<Figure size 432x288 with 1 Axes>"
      ]
     },
     "metadata": {
      "needs_background": "light"
     },
     "output_type": "display_data"
    }
   ],
   "source": [
    "# data load\n",
    "welfare = pd.read_csv(filename, encoding = 'CP949')\n",
    "print(welfare.columns)\n",
    "print(welfare)\n",
    "\n",
    "\n",
    "fig3 = plt.figure()\n",
    "plt.title('막대 테두리에 색상 넣기')\n",
    "sns.countplot(x = '결혼 유무', hue = '종교 유무', data = welfare, order=ORDERING,\n",
    "             linewidth = 1, edgecolor = sns.color_palette(\"dark\", 3))\n",
    "# sns.color_palette : seaborn의 palette의 어두운 색깔 중 3개 선택\n",
    "\n",
    "# plt.show()\n",
    "FileSave()"
   ]
  },
  {
   "cell_type": "markdown",
   "metadata": {},
   "source": [
    "# 가로 막대 그리기"
   ]
  },
  {
   "cell_type": "code",
   "execution_count": 37,
   "metadata": {},
   "outputs": [
    {
     "name": "stdout",
     "output_type": "stream",
     "text": [
      "Index(['성별', '생일', '결혼 유무', '종교 유무', '직업 코드', '소득', '지역구', '나이', '직업', '연령대'], dtype='object')\n",
      "      성별    생일 결혼 유무 종교 유무  직업 코드           소득           지역구  나이  \\\n",
      "0     남성  1948   무응답    없음  942.0   120.000000            서울  74   \n",
      "1     남성  1945    이혼    없음  942.0   220.200000            서울  77   \n",
      "2     남성  1946    결혼    없음  942.0   139.000000            서울  76   \n",
      "3     남성  1953    결혼    없음  942.0   150.000000            서울  69   \n",
      "4     남성  1960    결혼    있음  942.0   166.000000            서울  62   \n",
      "...   ..   ...   ...   ...    ...          ...           ...  ..   \n",
      "7524  여성  1950    결혼    있음  819.0   241.619016         강원/충북  72   \n",
      "7525  남성  1960    결혼    있음  111.0   250.000000  광주/전남/전북/제주도  62   \n",
      "7526  남성  1960    결혼    없음  111.0  1250.000000            서울  62   \n",
      "7527  남성  1992   무응답    있음  876.0   280.000000      부산/경남/울산  30   \n",
      "7528  남성  1935    결혼    있음  876.0   156.000000      부산/경남/울산  87   \n",
      "\n",
      "                       직업 연령대  \n",
      "0               경비원 및 검표원  노년  \n",
      "1               경비원 및 검표원  노년  \n",
      "2               경비원 및 검표원  노년  \n",
      "3               경비원 및 검표원  노년  \n",
      "4               경비원 및 검표원  노년  \n",
      "...                   ...  ..  \n",
      "7524      기타 식품가공관련 기계조작원  노년  \n",
      "7525  의회의원 고위공무원 및 공공단체임원  노년  \n",
      "7526  의회의원 고위공무원 및 공공단체임원  노년  \n",
      "7527    선박 갑판승무원 및 관련 종사원  중년  \n",
      "7528    선박 갑판승무원 및 관련 종사원  노년  \n",
      "\n",
      "[7529 rows x 10 columns]\n",
      "Bar_plot_sns_04.png파일이 저장되었습니다.\n"
     ]
    },
    {
     "data": {
      "image/png": "[encoded data removed]",
      "text/plain": [
       "<Figure size 432x288 with 1 Axes>"
      ]
     },
     "metadata": {
      "needs_background": "light"
     },
     "output_type": "display_data"
    }
   ],
   "source": [
    "# data load\n",
    "welfare = pd.read_csv(filename, encoding = 'CP949')\n",
    "print(welfare.columns)\n",
    "print(welfare)\n",
    "\n",
    "fig4 = plt.figure()\n",
    "plt.title('가로 막대 그리기')\n",
    "sns.countplot(y = '결혼 유무', hue='종교 유무', data = welfare, order =ORDERING)\n",
    "\n",
    "# plt.show()\n",
    "FileSave()"
   ]
  },
  {
   "cell_type": "markdown",
   "metadata": {},
   "source": [
    "# 색상 지정"
   ]
  },
  {
   "cell_type": "code",
   "execution_count": 38,
   "metadata": {},
   "outputs": [
    {
     "name": "stdout",
     "output_type": "stream",
     "text": [
      "Index(['성별', '생일', '결혼 유무', '종교 유무', '직업 코드', '소득', '지역구', '나이', '직업', '연령대'], dtype='object')\n",
      "      성별    생일 결혼 유무 종교 유무  직업 코드           소득           지역구  나이  \\\n",
      "0     남성  1948   무응답    없음  942.0   120.000000            서울  74   \n",
      "1     남성  1945    이혼    없음  942.0   220.200000            서울  77   \n",
      "2     남성  1946    결혼    없음  942.0   139.000000            서울  76   \n",
      "3     남성  1953    결혼    없음  942.0   150.000000            서울  69   \n",
      "4     남성  1960    결혼    있음  942.0   166.000000            서울  62   \n",
      "...   ..   ...   ...   ...    ...          ...           ...  ..   \n",
      "7524  여성  1950    결혼    있음  819.0   241.619016         강원/충북  72   \n",
      "7525  남성  1960    결혼    있음  111.0   250.000000  광주/전남/전북/제주도  62   \n",
      "7526  남성  1960    결혼    없음  111.0  1250.000000            서울  62   \n",
      "7527  남성  1992   무응답    있음  876.0   280.000000      부산/경남/울산  30   \n",
      "7528  남성  1935    결혼    있음  876.0   156.000000      부산/경남/울산  87   \n",
      "\n",
      "                       직업 연령대  \n",
      "0               경비원 및 검표원  노년  \n",
      "1               경비원 및 검표원  노년  \n",
      "2               경비원 및 검표원  노년  \n",
      "3               경비원 및 검표원  노년  \n",
      "4               경비원 및 검표원  노년  \n",
      "...                   ...  ..  \n",
      "7524      기타 식품가공관련 기계조작원  노년  \n",
      "7525  의회의원 고위공무원 및 공공단체임원  노년  \n",
      "7526  의회의원 고위공무원 및 공공단체임원  노년  \n",
      "7527    선박 갑판승무원 및 관련 종사원  중년  \n",
      "7528    선박 갑판승무원 및 관련 종사원  노년  \n",
      "\n",
      "[7529 rows x 10 columns]\n",
      "Bar_plot_sns_05.png파일이 저장되었습니다.\n"
     ]
    },
    {
     "data": {
      "image/png": "[encoded data removed]",
      "text/plain": [
       "<Figure size 432x288 with 1 Axes>"
      ]
     },
     "metadata": {
      "needs_background": "light"
     },
     "output_type": "display_data"
    }
   ],
   "source": [
    "# data load\n",
    "welfare = pd.read_csv(filename, encoding = 'CP949')\n",
    "print(welfare.columns)\n",
    "print(welfare)\n",
    "\n",
    "\n",
    "fig5 = plt.figure()\n",
    "plt.title('색상 팔레트 설정')\n",
    "sns.countplot(x = '결혼 유무', hue = '종교 유무', palette = 'Paired', data= welfare, order = ORDERING)\n",
    "# palette : 'Paired' 색상이름\n",
    "\n",
    "# plt.show()\n",
    "FileSave()"
   ]
  },
  {
   "cell_type": "code",
   "execution_count": 39,
   "metadata": {},
   "outputs": [],
   "source": [
    "from matplotlib.backends.backend_pdf import PdfPages\n",
    "\n",
    "pdfsave = PdfPages(CHART_NAME + \"_19011773.pdf\")\n",
    "pdfsave.savefig(fig1)\n",
    "pdfsave.savefig(fig2)\n",
    "pdfsave.savefig(fig3)\n",
    "pdfsave.savefig(fig4)\n",
    "pdfsave.savefig(fig5)\n",
    "pdfsave.close()"
   ]
  },
  {
   "cell_type": "code",
   "execution_count": null,
   "metadata": {},
   "outputs": [],
   "source": []
  }
 ],
 "metadata": {
  "kernelspec": {
   "display_name": "Python 3",
   "language": "python",
   "name": "python3"
  },
  "language_info": {
   "codemirror_mode": {
    "name": "ipython",
    "version": 3
   },
   "file_extension": ".py",
   "mimetype": "text/x-python",
   "name": "python",
   "nbconvert_exporter": "python",
   "pygments_lexer": "ipython3",
   "version": "3.8.5"
  }
 },
 "nbformat": 4,
 "nbformat_minor": 4
}
